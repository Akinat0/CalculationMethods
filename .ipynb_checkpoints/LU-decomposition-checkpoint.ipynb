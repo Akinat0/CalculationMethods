{
 "cells": [
  {
   "cell_type": "code",
   "execution_count": 3,
   "metadata": {},
   "outputs": [],
   "source": [
    "import numpy as np\n",
    "import scipy"
   ]
  },
  {
   "cell_type": "code",
   "execution_count": 4,
   "metadata": {},
   "outputs": [
    {
     "name": "stdout",
     "output_type": "stream",
     "text": [
      "[[ 1  2  3  4  5]\n",
      " [ 6  7  8  9 10]\n",
      " [11 12 13 14 15]\n",
      " [16 17 18 19 20]\n",
      " [21 22 23 24 25]]\n"
     ]
    }
   ],
   "source": [
    "a = np.arange(25).reshape(5,5) + 1\n",
    "print(a)"
   ]
  },
  {
   "cell_type": "code",
   "execution_count": 10,
   "metadata": {},
   "outputs": [],
   "source": [
    "def lu(a):\n",
    "    n = len(a)\n",
    "    L = [[0] * n for i in range(n)]\n",
    "    U = [[0] * n for i in range(n)]\n",
    "    for i in range(n):\n",
    "        L[i][i] = 1\n",
    "    for i in range(n):\n",
    "        for j in range(n):\n",
    "            U[i][j] = a[i,j]\n",
    "    for i in range(n):\n",
    "            for j in range(i, n):\n",
    "                L[j][i] = (U[j][i])/(U[i][i])\n",
    "    for k in range(1, n):\n",
    "        for i in range(k-1, n):\n",
    "            for j in range(i, n):\n",
    "                L[j][i] = (U[j][i])/(U[i][i])\n",
    "        for i in range(k, n):\n",
    "            for j in range(k-1, n):\n",
    "                U[i][j] = U[i][j] - L[i][k-1]*U[k-1][j]\n",
    "    return L, U"
   ]
  },
  {
   "cell_type": "code",
   "execution_count": 6,
   "metadata": {},
   "outputs": [],
   "source": [
    "def group_lu(L, U):\n",
    "    LU = scipy.array(L) + scipy.array(U) - np.eye(len(L))\n",
    "    return LU"
   ]
  },
  {
   "cell_type": "code",
   "execution_count": 68,
   "metadata": {},
   "outputs": [],
   "source": [
    "def get_L(m):\n",
    "    L = m.copy()\n",
    "    for i in range(L.shape[0]):\n",
    "            L[i, i] = 1\n",
    "            L[i, i+1 :] = 0\n",
    "    return np.array(L)\n",
    "\n",
    "    \n",
    "def get_U(m):\n",
    "    U = m.copy()\n",
    "    for i in range(1, U.shape[0]):\n",
    "        U[i, :i] = 0\n",
    "    return np.array(U)"
   ]
  },
  {
   "cell_type": "code",
   "execution_count": 75,
   "metadata": {},
   "outputs": [],
   "source": [
    "def solve_LU(lu_matrix, b):\n",
    "    \n",
    "    #Ax = b\n",
    "    \n",
    "    L = get_L(lu_matrix)\n",
    "    U = get_U(lu_matrix)\n",
    "    \n",
    "    n = len(L)\n",
    "\n",
    "    # (5) Perform substitutioan Ly=b\n",
    "    y = [0 for i in range(n)]\n",
    "    \n",
    "    for i in range(n):\n",
    "        y[i] = b[i]/float(L[i][i])\n",
    "        for k in range(i):\n",
    "            y[i] -= y[k]*L[i][k]\n",
    "\n",
    "    n = len(U)\n",
    "\n",
    "    # (6) Perform substitution Ux=y\n",
    "    x = [0 for i in range(n)]\n",
    "    for i in range(n-1,-1,-1):\n",
    "        x[i] = y[i]/float(U[i][i])\n",
    "        for k in range (i-1,-1,-1):\n",
    "            U[i] -= x[i]*U[i][k]\n",
    "\n",
    "    return x\n"
   ]
  },
  {
   "cell_type": "code",
   "execution_count": 77,
   "metadata": {},
   "outputs": [
    {
     "name": "stdout",
     "output_type": "stream",
     "text": [
      "A <class 'numpy.ndarray'>\n",
      "[[ 7.          3.         -1.          2.        ]\n",
      " [ 0.42857143  6.71428571  1.42857143 -4.85714286]\n",
      " [-0.14285714  0.21276596  3.55319149  0.31914894]\n",
      " [ 0.28571429 -0.72340426  0.08982036  1.88622754]]\n",
      "[[ 1.          0.          0.          0.        ]\n",
      " [ 0.42857143  1.          0.          0.        ]\n",
      " [-0.14285714  0.21276596  1.          0.        ]\n",
      " [ 0.28571429 -0.72340426  0.08982036  1.        ]]\n",
      "[[ 7.          3.         -1.          2.        ]\n",
      " [ 0.          6.71428571  1.42857143 -4.85714286]\n",
      " [ 0.          0.          3.55319149  0.31914894]\n",
      " [ 0.          0.          0.          1.88622754]]\n",
      "[0, 0, 0, 0]\n",
      "[1.0, 0.0, 0.0, 0.0]\n"
     ]
    }
   ],
   "source": [
    "A = [ [7, 3, -1, 2], [3, 8, 1, -4], [-1, 1, 4, -1], [2, -4, -1, 6] ]\n",
    "A = scipy.array(A)\n",
    "print(\"A\", type(A))\n",
    "L, U = lu(A)\n",
    "\n",
    "LU = group_lu(L, U)\n",
    "\n",
    "\n",
    "print(LU)\n",
    "print(get_L(LU))\n",
    "print(get_U(LU))\n",
    "\n",
    "B =  [7, 3, -1, 2]\n",
    "\n",
    "X = solve_LU(LU, B)\n",
    "\n",
    "print(X)\n",
    "\n",
    "\n",
    "# # print(A)\n",
    "# print(scipy.array(L))\n",
    "# print(scipy.array(U))\n",
    "\n",
    "# print(scipy.array(L) + scipy.array(U) - np.eye(len(A)))\n",
    "# print(np.dot(scipy.array(L), scipy.array(U)))\n"
   ]
  },
  {
   "cell_type": "code",
   "execution_count": null,
   "metadata": {},
   "outputs": [],
   "source": []
  }
 ],
 "metadata": {
  "kernelspec": {
   "display_name": "Python 3",
   "language": "python",
   "name": "python3"
  },
  "language_info": {
   "codemirror_mode": {
    "name": "ipython",
    "version": 3
   },
   "file_extension": ".py",
   "mimetype": "text/x-python",
   "name": "python",
   "nbconvert_exporter": "python",
   "pygments_lexer": "ipython3",
   "version": "3.7.2"
  }
 },
 "nbformat": 4,
 "nbformat_minor": 2
}
