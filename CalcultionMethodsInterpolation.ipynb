{
 "cells": [
  {
   "cell_type": "code",
   "execution_count": null,
   "metadata": {},
   "outputs": [],
   "source": [
    "#sqrt(1+sqr(x)*sqr(sin(sqr(x)))) where -1<=x<=1"
   ]
  },
  {
   "cell_type": "markdown",
   "metadata": {},
   "source": [
    "# Importing"
   ]
  },
  {
   "cell_type": "code",
   "execution_count": 199,
   "metadata": {},
   "outputs": [],
   "source": [
    "import numpy as np\n",
    "import math\n",
    "from math import sqrt\n",
    "from math import pow\n",
    "from math import sin\n",
    "from math import cos\n",
    "from scipy.interpolate import lagrange\n",
    "eps = 0.0000001"
   ]
  },
  {
   "cell_type": "markdown",
   "metadata": {},
   "source": [
    "## Segment splitting"
   ]
  },
  {
   "cell_type": "code",
   "execution_count": 72,
   "metadata": {},
   "outputs": [
    {
     "data": {
      "text/plain": [
       "array([ 1.  ,  5.75, 10.5 , 15.25, 20.  ])"
      ]
     },
     "execution_count": 72,
     "metadata": {},
     "output_type": "execute_result"
    }
   ],
   "source": [
    "def split(a, b, n): # a & b is a segment, n is an amount of fragments\n",
    "    lengthOfSegment = b-a\n",
    "    lengthOfFragment = lengthOfSegment / (n-1) #last point should be equal to b\n",
    "    splitPoints = np.zeros(n) \n",
    "    for i in range(n):\n",
    "        splitPoints[i] = a + i * lengthOfFragment\n",
    "    return splitPoints\n",
    "  ################## Example      \n",
    "split(1, 20, 5)"
   ]
  },
  {
   "cell_type": "markdown",
   "metadata": {},
   "source": [
    "## Here's my function hardcoded"
   ]
  },
  {
   "cell_type": "code",
   "execution_count": 73,
   "metadata": {},
   "outputs": [
    {
     "name": "stdout",
     "output_type": "stream",
     "text": [
      "None\n"
     ]
    }
   ],
   "source": [
    "def calcFunValue(value): #Calculates values of calcFunValue\n",
    "    x = value\n",
    "    a = -1\n",
    "    b = 1\n",
    "    if (value < a) or (value > b):\n",
    "        return None\n",
    "    return sqrt(1 + pow(x, 2) * pow(sin(pow(x, 2)), 2))\n",
    "################## Example\n",
    "print(calcFunValue(1.1))"
   ]
  },
  {
   "cell_type": "markdown",
   "metadata": {},
   "source": [
    "# Interpolation"
   ]
  },
  {
   "cell_type": "markdown",
   "metadata": {},
   "source": [
    "## Calculates values of function hardcoded above into nodes values"
   ]
  },
  {
   "cell_type": "code",
   "execution_count": 74,
   "metadata": {},
   "outputs": [],
   "source": [
    "def valuesInPonts(points): #Calculates values of calcFunValue in points array\n",
    "    values = np.zeros(len(points))\n",
    "    for i in range(len(points)):\n",
    "        values[i] = calcFunValue(points[i])\n",
    "    return values"
   ]
  },
  {
   "cell_type": "markdown",
   "metadata": {},
   "source": [
    "## My own lagrange implementation"
   ]
  },
  {
   "cell_type": "code",
   "execution_count": null,
   "metadata": {},
   "outputs": [],
   "source": [
    "#Evaluates te i-th Lagrange polynomial at x\n",
    "def my_lagrange (x ,i , xm ):\n",
    "    y=1.\n",
    "    for j in range ( len(xm) ):\n",
    "        if i != j:\n",
    "            y*=( x-xm[j])/( xm[i]-xm[j])\n",
    "    return y\n",
    "\n",
    "#Interpolation\n",
    "def lagrangeInterpolation (x , xm , ym ): \n",
    "    n=len( xm )\n",
    "    lagrpoly = [ my_lagrange (x ,i , xm ) for i in range ( n )]\n",
    "    y = np.dot( ym , lagrpoly ) #Vector's multiplication\n",
    "    return y\n",
    "\n",
    "def interpolateFunction(new_x, xm, ym):\n",
    "    new_y = [lagrangeInterpolation(x, xm, ym) for x in new_x]\n",
    "    return new_y"
   ]
  },
  {
   "cell_type": "markdown",
   "metadata": {},
   "source": [
    "## Newtone interpolation"
   ]
  },
  {
   "cell_type": "code",
   "execution_count": 93,
   "metadata": {},
   "outputs": [],
   "source": [
    "def _poly_newton_coefficient(x,y):\n",
    "    \"\"\"\n",
    "    x: list or np array contanining x data points\n",
    "    y: list or np array contanining y data points\n",
    "    \"\"\"\n",
    "\n",
    "    m = len(x)\n",
    "\n",
    "    x = np.copy(x)\n",
    "    a = np.copy(y)\n",
    "    for k in range(1,m):\n",
    "        a[k:m] = (a[k:m] - a[k-1])/(x[k:m] - x[k-1])\n",
    "\n",
    "    return a\n",
    "\n",
    "def newton_polynomial(x_data, y_data, x):\n",
    "    \"\"\"\n",
    "    x_data: data points at x\n",
    "    y_data: data points at y\n",
    "    x: evaluation points\n",
    "    \"\"\"\n",
    "    a = _poly_newton_coefficient(x_data, y_data)\n",
    "    n = len(x_data) - 1 # Degree of polynomial\n",
    "    p = a[n]\n",
    "    for k in range(1,n+1):\n",
    "        p = a[n-k] + (x -x_data[n-k])*p\n",
    "    return p"
   ]
  },
  {
   "cell_type": "markdown",
   "metadata": {},
   "source": [
    "## Second lab simple print"
   ]
  },
  {
   "cell_type": "code",
   "execution_count": 104,
   "metadata": {},
   "outputs": [],
   "source": [
    "def printTable(x, y, y_newt, y_lagr):\n",
    "    print(\"x   \", \"f(x)   \", \"P(x)   \", \"L(x)\")\n",
    "    for i in range(len(x)):\n",
    "        print(x[i], y[i], y_newt[i], y_lagr[i])\n",
    "\n",
    "        \n"
   ]
  },
  {
   "cell_type": "markdown",
   "metadata": {},
   "source": [
    "## Third lab print"
   ]
  },
  {
   "cell_type": "code",
   "execution_count": 144,
   "metadata": {},
   "outputs": [],
   "source": [
    "def printTable3(n):\n",
    "    i0 = left_rectangles_rule(calcFunValue, -1, 1, n)\n",
    "    i1 = trapezoid_rule(calcFunValue, -1, 1, n)\n",
    "    i2 = simpson_rule(calcFunValue, -1, 1, n)\n",
    "    print(\"N=\", n, \" I0=\", i0, \" I1=\", i1, \" I2=\", i2)"
   ]
  },
  {
   "cell_type": "markdown",
   "metadata": {},
   "source": [
    "# Integration"
   ]
  },
  {
   "cell_type": "code",
   "execution_count": 124,
   "metadata": {},
   "outputs": [],
   "source": [
    "def integrate(f, a, b, p, method):\n",
    "    \n",
    "    # Spliting \n",
    "    # p means precision\n",
    "    \n",
    "    n = 2\n",
    "    result1 = method(f, a, b, n)\n",
    "    n *= 2\n",
    "    result2 = method(f, a, b, n)\n",
    "    \n",
    "    while abs(result1 - result2) > p:\n",
    "        n *= 2\n",
    "        result1 = method(f, a, b, n)\n",
    "        n *= 2\n",
    "        result2 = method(f, a, b, n)\n",
    "    return result2"
   ]
  },
  {
   "cell_type": "markdown",
   "metadata": {},
   "source": [
    "## Integration by rectangles (left)"
   ]
  },
  {
   "cell_type": "code",
   "execution_count": 130,
   "metadata": {},
   "outputs": [],
   "source": [
    "def left_rectangles_rule(f, a, b, n):\n",
    "    offset = (b-a)/float(n)  #Calculate offset with current N\n",
    "    total = sum([f((a + (k * offset))) for k in range(0, n)])   #Sum of f(x) from offsetted values \n",
    "    result = offset * total   #Multiply rusult to iffset value (look at lefr rectangles formula)\n",
    "    return result"
   ]
  },
  {
   "cell_type": "markdown",
   "metadata": {},
   "source": [
    "## Trapezoid integration"
   ]
  },
  {
   "cell_type": "code",
   "execution_count": 131,
   "metadata": {},
   "outputs": [],
   "source": [
    "def trapezoid_rule(f, a, b, n):\n",
    "    dx = 1.0 * (b - a) / n # Calculate offset\n",
    "    sum = 0.5 * (f(a) + f(b))\n",
    "    for i in range(1, n):\n",
    "        sum += f(a + i * dx)\n",
    "\n",
    "    return sum * dx"
   ]
  },
  {
   "cell_type": "markdown",
   "metadata": {},
   "source": [
    "## Simpson integration"
   ]
  },
  {
   "cell_type": "code",
   "execution_count": 146,
   "metadata": {},
   "outputs": [],
   "source": [
    "def simpson_rule(f, a, b, n):\n",
    "    \n",
    "    if n % 2 == 1:\n",
    "        n += 1  #Even parabols number only\n",
    "    dx = (b - a) / n\n",
    "    sum = (f(a) + 4 * f(a + dx) + f(b))\n",
    "    for i in range(1, (int)(n / 2)):\n",
    "        sum += 2 * f(a + (2 * i) * dx) + 4 * f(a + (2 * i + 1) * dx)\n",
    "    return sum * dx / 3"
   ]
  },
  {
   "cell_type": "markdown",
   "metadata": {},
   "source": [
    "# Cauchy issue solving"
   ]
  },
  {
   "cell_type": "code",
   "execution_count": 217,
   "metadata": {},
   "outputs": [],
   "source": [
    "def euler_method(function, n, xlist, ylist):\n",
    "    h = 1/n\n",
    "    \n",
    "    for i in range(1, n):\n",
    "        ylist[i] = ylist[i-1] + h * function(xlist[i-1], ylist[i-1])\n",
    "    return ylist"
   ]
  },
  {
   "cell_type": "code",
   "execution_count": 197,
   "metadata": {},
   "outputs": [],
   "source": [
    "def f3(x, y):\n",
    "    return y * cos(x)\n",
    "\n",
    "def f3_true(x):\n",
    "    return math.e ** math.sin(x) # exact solution\n",
    "\n",
    "#Known solution\n",
    "x0 = 0\n",
    "y0 = 1"
   ]
  },
  {
   "cell_type": "code",
   "execution_count": 230,
   "metadata": {},
   "outputs": [],
   "source": [
    "def printTable4(xlist, ylist_tilda, ylist):\n",
    "    for i in range(len(xlist)):\n",
    "        print(xlist[i], ylist_tilda[i], ylist[i], math.abs(ylist[i] - ylist_tilda[i]))"
   ]
  },
  {
   "cell_type": "markdown",
   "metadata": {},
   "source": [
    "# /////////////////////////////////////////////////Examples//////////////////////////////////////////////////////////"
   ]
  },
  {
   "cell_type": "markdown",
   "metadata": {},
   "source": [
    "## Lab1 & Lab2"
   ]
  },
  {
   "cell_type": "code",
   "execution_count": 150,
   "metadata": {},
   "outputs": [
    {
     "name": "stdout",
     "output_type": "stream",
     "text": [
      "x    f(x)    P(x)    L(x)\n",
      "-1.0 1.306932828523934 1.306932828523934 1.306932828523934\n",
      "-0.6 1.0220934246704843 1.0864328224313473 1.0864328224313473\n",
      "-0.19999999999999996 1.0000319824255361 0.9761828193850539 0.9761828193850539\n",
      "0.20000000000000018 1.0000319824255361 0.9761828193850539 0.9761828193850537\n",
      "0.6000000000000001 1.0220934246704843 1.0864328224313473 1.0864328224313473\n",
      "1.0 1.306932828523934 1.306932828523934 1.306932828523934\n"
     ]
    }
   ],
   "source": [
    "# Obtain x values on the vector. The last one is 'M'\n",
    "x_new_values = split(-1, 1, 6) \n",
    "\n",
    "#Calculate true y values\n",
    "y_new_true_values = valuesInPonts(x_new_values) \n",
    "\n",
    "# Calculate interpolated values based on lagrange\n",
    "y_new_Lagrange_values = interpolateFunction(x_new_values, x_values, y_values) \n",
    "\n",
    "# Calculate interpolated values based on Newtonr\n",
    "y_new_Newtone_values = [newton_polynomial(x_values, y_values, x) for x in x_new_values] \n",
    "\n",
    "#Printing\n",
    "printTable(x_new_values, y_new_true_values, y_new_Newtone_values, y_new_Lagrange_values)"
   ]
  },
  {
   "cell_type": "markdown",
   "metadata": {},
   "source": [
    "## Lab3"
   ]
  },
  {
   "cell_type": "code",
   "execution_count": 134,
   "metadata": {},
   "outputs": [
    {
     "data": {
      "text/plain": [
       "2.106020707147699"
      ]
     },
     "execution_count": 134,
     "metadata": {},
     "output_type": "execute_result"
    }
   ],
   "source": [
    "integrate(calcFunValue, -1, 1, eps, left_rectangles_rule)"
   ]
  },
  {
   "cell_type": "code",
   "execution_count": 135,
   "metadata": {},
   "outputs": [
    {
     "data": {
      "text/plain": [
       "2.106020707147699"
      ]
     },
     "execution_count": 135,
     "metadata": {},
     "output_type": "execute_result"
    }
   ],
   "source": [
    "integrate(calcFunValue, -1, 1, eps, trapezoid_rule)"
   ]
  },
  {
   "cell_type": "code",
   "execution_count": 140,
   "metadata": {},
   "outputs": [
    {
     "data": {
      "text/plain": [
       "2.106019721771366"
      ]
     },
     "execution_count": 140,
     "metadata": {},
     "output_type": "execute_result"
    }
   ],
   "source": [
    "integrate(calcFunValue, -1, 1, eps, simpson_rule)"
   ]
  },
  {
   "cell_type": "code",
   "execution_count": 147,
   "metadata": {},
   "outputs": [
    {
     "name": "stdout",
     "output_type": "stream",
     "text": [
      "N= 1000  I0= 2.1060207453674433  I1= 2.1060207453674433  I2= 2.1060199203421273\n"
     ]
    }
   ],
   "source": [
    "printTable3(1000)"
   ]
  },
  {
   "cell_type": "markdown",
   "metadata": {},
   "source": [
    "## Lab 4"
   ]
  },
  {
   "cell_type": "code",
   "execution_count": 231,
   "metadata": {},
   "outputs": [
    {
     "ename": "AttributeError",
     "evalue": "module 'math' has no attribute 'abs'",
     "output_type": "error",
     "traceback": [
      "\u001b[1;31m---------------------------------------------------------------------------\u001b[0m",
      "\u001b[1;31mAttributeError\u001b[0m                            Traceback (most recent call last)",
      "\u001b[1;32m<ipython-input-231-27259bfed180>\u001b[0m in \u001b[0;36m<module>\u001b[1;34m\u001b[0m\n\u001b[0;32m     12\u001b[0m \u001b[0my_values\u001b[0m \u001b[1;33m=\u001b[0m \u001b[1;33m[\u001b[0m\u001b[0mf3_true\u001b[0m\u001b[1;33m(\u001b[0m\u001b[0mx\u001b[0m\u001b[1;33m)\u001b[0m \u001b[1;32mfor\u001b[0m \u001b[0mx\u001b[0m \u001b[1;32min\u001b[0m \u001b[0mx_values\u001b[0m\u001b[1;33m]\u001b[0m\u001b[1;33m\u001b[0m\u001b[1;33m\u001b[0m\u001b[0m\n\u001b[0;32m     13\u001b[0m \u001b[1;33m\u001b[0m\u001b[0m\n\u001b[1;32m---> 14\u001b[1;33m \u001b[0mprintTable4\u001b[0m\u001b[1;33m(\u001b[0m\u001b[0mx_values\u001b[0m\u001b[1;33m,\u001b[0m \u001b[0my_values_tilda\u001b[0m\u001b[1;33m,\u001b[0m \u001b[0my_values\u001b[0m\u001b[1;33m)\u001b[0m\u001b[1;33m\u001b[0m\u001b[1;33m\u001b[0m\u001b[0m\n\u001b[0m",
      "\u001b[1;32m<ipython-input-230-ec761c0659b3>\u001b[0m in \u001b[0;36mprintTable4\u001b[1;34m(xlist, ylist_tilda, ylist)\u001b[0m\n\u001b[0;32m      1\u001b[0m \u001b[1;32mdef\u001b[0m \u001b[0mprintTable4\u001b[0m\u001b[1;33m(\u001b[0m\u001b[0mxlist\u001b[0m\u001b[1;33m,\u001b[0m \u001b[0mylist_tilda\u001b[0m\u001b[1;33m,\u001b[0m \u001b[0mylist\u001b[0m\u001b[1;33m)\u001b[0m\u001b[1;33m:\u001b[0m\u001b[1;33m\u001b[0m\u001b[1;33m\u001b[0m\u001b[0m\n\u001b[0;32m      2\u001b[0m     \u001b[1;32mfor\u001b[0m \u001b[0mi\u001b[0m \u001b[1;32min\u001b[0m \u001b[0mrange\u001b[0m\u001b[1;33m(\u001b[0m\u001b[0mlen\u001b[0m\u001b[1;33m(\u001b[0m\u001b[0mxlist\u001b[0m\u001b[1;33m)\u001b[0m\u001b[1;33m)\u001b[0m\u001b[1;33m:\u001b[0m\u001b[1;33m\u001b[0m\u001b[1;33m\u001b[0m\u001b[0m\n\u001b[1;32m----> 3\u001b[1;33m         \u001b[0mprint\u001b[0m\u001b[1;33m(\u001b[0m\u001b[0mxlist\u001b[0m\u001b[1;33m[\u001b[0m\u001b[0mi\u001b[0m\u001b[1;33m]\u001b[0m\u001b[1;33m,\u001b[0m \u001b[0mylist_tilda\u001b[0m\u001b[1;33m[\u001b[0m\u001b[0mi\u001b[0m\u001b[1;33m]\u001b[0m\u001b[1;33m,\u001b[0m \u001b[0mylist\u001b[0m\u001b[1;33m[\u001b[0m\u001b[0mi\u001b[0m\u001b[1;33m]\u001b[0m\u001b[1;33m,\u001b[0m \u001b[0mmath\u001b[0m\u001b[1;33m.\u001b[0m\u001b[0mabs\u001b[0m\u001b[1;33m(\u001b[0m\u001b[0mylist\u001b[0m\u001b[1;33m[\u001b[0m\u001b[0mi\u001b[0m\u001b[1;33m]\u001b[0m \u001b[1;33m-\u001b[0m \u001b[0mylist_tilda\u001b[0m\u001b[1;33m[\u001b[0m\u001b[0mi\u001b[0m\u001b[1;33m]\u001b[0m\u001b[1;33m)\u001b[0m\u001b[1;33m)\u001b[0m\u001b[1;33m\u001b[0m\u001b[1;33m\u001b[0m\u001b[0m\n\u001b[0m",
      "\u001b[1;31mAttributeError\u001b[0m: module 'math' has no attribute 'abs'"
     ]
    }
   ],
   "source": [
    "n = 1000\n",
    "h = 1/n\n",
    "\n",
    "a,b = x0, 1\n",
    "\n",
    "x_values = split(a, b, n)\n",
    "y_values = np.zeros(n)\n",
    "y_values[0] = y0\n",
    "\n",
    "y_values_tilda = euler_method(f3, n, x_values, y_values)\n",
    "\n",
    "y_values = [f3_true(x) for x in x_values]\n",
    "\n",
    "printTable4(x_values, y_values_tilda, y_values)"
   ]
  },
  {
   "cell_type": "code",
   "execution_count": null,
   "metadata": {},
   "outputs": [],
   "source": []
  }
 ],
 "metadata": {
  "kernelspec": {
   "display_name": "Python 3",
   "language": "python",
   "name": "python3"
  },
  "language_info": {
   "codemirror_mode": {
    "name": "ipython",
    "version": 3
   },
   "file_extension": ".py",
   "mimetype": "text/x-python",
   "name": "python",
   "nbconvert_exporter": "python",
   "pygments_lexer": "ipython3",
   "version": "3.7.2"
  }
 },
 "nbformat": 4,
 "nbformat_minor": 2
}
