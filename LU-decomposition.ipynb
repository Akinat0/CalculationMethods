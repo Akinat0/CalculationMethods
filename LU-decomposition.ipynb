{
 "cells": [
  {
   "cell_type": "code",
   "execution_count": 17,
   "metadata": {},
   "outputs": [],
   "source": [
    "import numpy as np\n",
    "import scipy"
   ]
  },
  {
   "cell_type": "code",
   "execution_count": 13,
   "metadata": {},
   "outputs": [
    {
     "name": "stdout",
     "output_type": "stream",
     "text": [
      "[[ 1  2  3  4  5]\n",
      " [ 6  7  8  9 10]\n",
      " [11 12 13 14 15]\n",
      " [16 17 18 19 20]\n",
      " [21 22 23 24 25]]\n"
     ]
    }
   ],
   "source": [
    "a = np.arange(25).reshape(5,5) + 1\n",
    "print(a)"
   ]
  },
  {
   "cell_type": "code",
   "execution_count": 35,
   "metadata": {},
   "outputs": [],
   "source": [
    "def lu(a):\n",
    "\tn = len(a)\n",
    "\tL = [[0] * n for i in range(n)]\n",
    "\tU = [[0] * n for i in range(n)]\n",
    "\tfor i in range(n):\n",
    "\t\tL[i][i] = 1\n",
    "\tfor i in range(n):\n",
    "\t\tfor j in range(n):\n",
    "\t\t\tU[i][j] = a[i,j]\n",
    "\tfor i in range(n):\n",
    "\t\t\tfor j in range(i, n):\n",
    "\t\t\t\tL[j][i] = (U[j][i])/(U[i][i])\n",
    "\tfor k in range(1, n):\n",
    "\t\tfor i in range(k-1, n):\n",
    "\t\t\tfor j in range(i, n):\n",
    "\t\t\t\tL[j][i] = (U[j][i])/(U[i][i])\n",
    "\t\tfor i in range(k, n):\n",
    "\t\t\tfor j in range(k-1, n):\n",
    "\t\t\t\tU[i][j] = U[i][j] - L[i][k-1]*U[k-1][j]\n",
    "\treturn L, U"
   ]
  },
  {
   "cell_type": "code",
   "execution_count": 53,
   "metadata": {},
   "outputs": [],
   "source": [
    "def group_lu(L, U):\n",
    "    LU = scipy.array(L) + scipy.array(U) - np.eye(len(L))\n",
    "    return LU"
   ]
  },
  {
   "cell_type": "code",
   "execution_count": 57,
   "metadata": {},
   "outputs": [
    {
     "name": "stdout",
     "output_type": "stream",
     "text": [
      "[[0.0000000e+00 0.0000000e+00 0.0000000e+00 0.0000000e+00]\n",
      " [0.0000000e+00 0.0000000e+00 0.0000000e+00 4.4408921e-16]\n",
      " [0.0000000e+00 0.0000000e+00 0.0000000e+00 0.0000000e+00]\n",
      " [0.0000000e+00 4.4408921e-16 0.0000000e+00 0.0000000e+00]]\n"
     ]
    }
   ],
   "source": [
    "A = ([ [7, 3, -1, 2], [3, 8, 1, -4], [-1, 1, 4, -1], [2, -4, -1, 6] ])\n",
    "A = scipy.array(A)\n",
    "L, U = lu(A)\n",
    "\n",
    "\n",
    "LU = group_lu(L, U)\n",
    "\n",
    "B = np.dot(L, U) - A\n",
    "\n",
    "print(B)\n",
    "\n",
    "# # print(A)\n",
    "# print(scipy.array(L))\n",
    "# print(scipy.array(U))\n",
    "\n",
    "# print(scipy.array(L) + scipy.array(U) - np.eye(len(A)))\n",
    "# print(np.dot(scipy.array(L), scipy.array(U)))\n"
   ]
  },
  {
   "cell_type": "code",
   "execution_count": 48,
   "metadata": {},
   "outputs": [
    {
     "name": "stdout",
     "output_type": "stream",
     "text": [
      "[20 21]\n",
      "[12]\n"
     ]
    }
   ],
   "source": [
    "print(a[2, :2])\n",
    "print(a[:, 2])"
   ]
  },
  {
   "cell_type": "code",
   "execution_count": null,
   "metadata": {},
   "outputs": [],
   "source": []
  }
 ],
 "metadata": {
  "kernelspec": {
   "display_name": "Python 3",
   "language": "python",
   "name": "python3"
  },
  "language_info": {
   "codemirror_mode": {
    "name": "ipython",
    "version": 3
   },
   "file_extension": ".py",
   "mimetype": "text/x-python",
   "name": "python",
   "nbconvert_exporter": "python",
   "pygments_lexer": "ipython3",
   "version": "3.7.2"
  }
 },
 "nbformat": 4,
 "nbformat_minor": 2
}
